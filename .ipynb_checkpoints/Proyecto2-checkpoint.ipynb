{
 "cells": [
  {
   "cell_type": "code",
   "execution_count": 148,
   "id": "b57a3ee0-117f-4127-8e36-a540f7a535dc",
   "metadata": {
    "id": "b57a3ee0-117f-4127-8e36-a540f7a535dc",
    "scrolled": true
   },
   "outputs": [],
   "source": [
    "# Librerias\n",
    "\n",
    "import pandas as pd\n",
    "import numpy as np\n",
    "from sklearn.pipeline import Pipeline\n",
    "from sklearn.model_selection import KFold, GridSearchCV, RandomizedSearchCV\n",
    "from sklearn.base import BaseEstimator, TransformerMixin\n",
    "from sklearn.decomposition import TruncatedSVD\n",
    "from sklearn.linear_model import LogisticRegression\n",
    "from sklearn.metrics import classification_report, confusion_matrix\n",
    "from sklearn.model_selection import train_test_split\n",
    "\n",
    "#python -m nltk.downloader all\n",
    "from nltk.tokenize import word_tokenize\n",
    "from nltk import RegexpTokenizer\n",
    "from nltk.corpus import stopwords\n",
    "from nltk.stem import SnowballStemmer\n",
    "from wordcloud import WordCloud\n",
    "from sklearn.feature_extraction.text import TfidfVectorizer\n",
    "from sklearn.ensemble import RandomForestClassifier\n",
    "#Librerias para el perceptron multicapa\n",
    "from keras.models import Sequential\n",
    "from keras.layers import Dense, Input\n",
    "from sklearn.neural_network import MLPClassifier\n",
    "#import keras as keras\n",
    "#from keras.models import Sequential\n",
    "#from keras.layers import Dense, Input\n",
    "import keras_tuner as kt\n",
    "\n",
    "import tensorflow as tf\n",
    "from tensorflow import keras\n",
    "from matplotlib import pyplot as plt"
   ]
  },
  {
   "cell_type": "markdown",
   "id": "72e4dddf-0483-4e54-84d6-ae102a38472b",
   "metadata": {},
   "source": [
    "## Analisis de los datos"
   ]
  },
  {
   "cell_type": "markdown",
   "id": "cd52070d-3797-4031-ad53-2a605ce838f2",
   "metadata": {
    "id": "cd52070d-3797-4031-ad53-2a605ce838f2"
   },
   "source": [
    "**Cargar los datos y separarlos**"
   ]
  },
  {
   "cell_type": "code",
   "execution_count": 95,
   "id": "dd802f89-0bc1-4aea-8358-1749eda83c91",
   "metadata": {
    "colab": {
     "base_uri": "https://localhost:8080/"
    },
    "id": "dd802f89-0bc1-4aea-8358-1749eda83c91",
    "outputId": "13b22fb3-79f6-4018-e892-6edf210b965c"
   },
   "outputs": [
    {
     "data": {
      "text/html": [
       "<div>\n",
       "<style scoped>\n",
       "    .dataframe tbody tr th:only-of-type {\n",
       "        vertical-align: middle;\n",
       "    }\n",
       "\n",
       "    .dataframe tbody tr th {\n",
       "        vertical-align: top;\n",
       "    }\n",
       "\n",
       "    .dataframe thead th {\n",
       "        text-align: right;\n",
       "    }\n",
       "</style>\n",
       "<table border=\"1\" class=\"dataframe\">\n",
       "  <thead>\n",
       "    <tr style=\"text-align: right;\">\n",
       "      <th></th>\n",
       "      <th>textos</th>\n",
       "      <th>ODS</th>\n",
       "    </tr>\n",
       "  </thead>\n",
       "  <tbody>\n",
       "    <tr>\n",
       "      <th>0</th>\n",
       "      <td>\"Aprendizaje\" y \"educación\" se consideran sinó...</td>\n",
       "      <td>4</td>\n",
       "    </tr>\n",
       "    <tr>\n",
       "      <th>1</th>\n",
       "      <td>No dejar clara la naturaleza de estos riesgos ...</td>\n",
       "      <td>6</td>\n",
       "    </tr>\n",
       "    <tr>\n",
       "      <th>2</th>\n",
       "      <td>Como resultado, un mayor y mejorado acceso al ...</td>\n",
       "      <td>13</td>\n",
       "    </tr>\n",
       "    <tr>\n",
       "      <th>3</th>\n",
       "      <td>Con el Congreso firmemente en control de la ju...</td>\n",
       "      <td>16</td>\n",
       "    </tr>\n",
       "    <tr>\n",
       "      <th>4</th>\n",
       "      <td>Luego, dos secciones finales analizan las impl...</td>\n",
       "      <td>5</td>\n",
       "    </tr>\n",
       "  </tbody>\n",
       "</table>\n",
       "</div>"
      ],
      "text/plain": [
       "                                              textos  ODS\n",
       "0  \"Aprendizaje\" y \"educación\" se consideran sinó...    4\n",
       "1  No dejar clara la naturaleza de estos riesgos ...    6\n",
       "2  Como resultado, un mayor y mejorado acceso al ...   13\n",
       "3  Con el Congreso firmemente en control de la ju...   16\n",
       "4  Luego, dos secciones finales analizan las impl...    5"
      ]
     },
     "execution_count": 95,
     "metadata": {},
     "output_type": "execute_result"
    }
   ],
   "source": [
    "# Lectura del archivo y transformación al formato DataFrrame de pandas\n",
    "file = pd.read_excel('Train_textosODS.xlsx')\n",
    "file.head(5)"
   ]
  },
  {
   "cell_type": "markdown",
   "id": "226e732b-4215-4372-babf-d824cffc5189",
   "metadata": {},
   "source": [
    "Breve Exporacion de los datos"
   ]
  },
  {
   "cell_type": "code",
   "execution_count": 98,
   "id": "ab92e672-0d38-4903-9acb-f07803398598",
   "metadata": {
    "colab": {
     "base_uri": "https://localhost:8080/"
    },
    "id": "ab92e672-0d38-4903-9acb-f07803398598",
    "outputId": "e450e685-cbee-4817-f1dd-ac725e7fac15"
   },
   "outputs": [
    {
     "name": "stdout",
     "output_type": "stream",
     "text": [
      "Duplicados: 0\n",
      "Nulos: textos    0\n",
      "ODS       0\n",
      "dtype: int64\n"
     ]
    }
   ],
   "source": [
    "# Verificación de Duplicados y datos incompletos\n",
    "print(f'Duplicados: {file.duplicated().sum()}')\n",
    "print(f'Nulos: {file.isna().sum()}')\n",
    "    # No es necesario eliminar datos ni imputar"
   ]
  },
  {
   "cell_type": "code",
   "execution_count": 100,
   "id": "53039900-78dc-4146-81c6-61ad3b816f78",
   "metadata": {
    "colab": {
     "base_uri": "https://localhost:8080/",
     "height": 424
    },
    "id": "53039900-78dc-4146-81c6-61ad3b816f78",
    "outputId": "5f2eeb26-2f8d-439a-8eac-6272348634a0"
   },
   "outputs": [
    {
     "data": {
      "text/plain": [
       "<Axes: ylabel='count'>"
      ]
     },
     "execution_count": 100,
     "metadata": {},
     "output_type": "execute_result"
    },
    {
     "data": {
      "image/png": "[encoded data removed]",
      "text/plain": [
       "<Figure size 640x480 with 1 Axes>"
      ]
     },
     "metadata": {},
     "output_type": "display_data"
    }
   ],
   "source": [
    "#Proporción de las clases\n",
    "file['ODS'].value_counts().plot(kind='pie')"
   ]
  },
  {
   "cell_type": "markdown",
   "id": "fb12111f-1ae7-4215-a328-e8aed9599996",
   "metadata": {},
   "source": [
    "Como podemos observar el conjunto de datos se componen de 16 posibles categorias, de las cuales solo 5 de estas representan la mitad del conjunto de datos, por lo que se esperaria de ante mano que los modelos tiendan a predecir de mejor manera estas clases."
   ]
  },
  {
   "cell_type": "markdown",
   "id": "8ec59558-0a0e-47f5-8eaa-9e2cf8d79dc7",
   "metadata": {},
   "source": [
    "**Separacion de los datos entre etiquetas y datos**"
   ]
  },
  {
   "cell_type": "code",
   "execution_count": 104,
   "id": "29aff16b-0c2d-4f21-8f85-82af45b20d57",
   "metadata": {
    "id": "29aff16b-0c2d-4f21-8f85-82af45b20d57"
   },
   "outputs": [
    {
     "name": "stdout",
     "output_type": "stream",
     "text": [
      "Las guerras, los conflictos armados y la ocupación de territorios a menudo conducen a un aumento de la prostitución, la trata de mujeres y las agresiones sexuales a las mujeres, que requieren medidas de protección y punitivas específicas. La igualdad en el empleo puede verse gravemente afectada cuando las mujeres son objeto de violencia específica de género, como el acoso sexual en el lugar de trabajo. El acoso sexual incluye comportamiento sexualmente determinado no deseado como contacto físico y avances, comentarios de color sexual, mostrar pornografía y demanda sexual, ya sea con palabras o acciones.\n",
      "<Total de palabras = 95>\n",
      "\n",
      "También se le otorgó el monopolio de los derechos de importación sobre el arroz y la harina de trigo. A través de BIMAS, se desarrollaron y difundieron paquetes de cambio tecnológico en forma de variedades de alto rendimiento (HYV) de arroz, fertilizantes y pesticidas a precios subsidiados a través de quioscos operados por cooperativas de aldea (Koperasi Unit Desa, KUD). Las sucursales locales del Bank Rakyat Indonesia (BRI) proporcionaron crédito subsidiado a los agricultores para comprar estos insumos.\n",
      "<Total de palabras = 78>\n",
      "\n",
      "España presenta ahora Informes de Impacto de Género al Parlamento para acompañar a sus Presupuestos Generales del Estado. El marco legal para estos informes se inició en 2003 con una ley de acciones para introducir la evaluación de impacto de género en todas las regulaciones gubernamentales. En 2009, el gobierno español aprobó una guía metodológica para la elaboración de este informe, que incluye una guía de impacto de género. Los países nórdicos también han brindado un liderazgo sustancial en PSG.\n",
      "<Total de palabras = 80>\n"
     ]
    }
   ],
   "source": [
    "#Separación de las variables\n",
    "ODS = file['ODS']\n",
    "textos = file['textos']\n",
    "\n",
    "# 3 ejemplos de los textos a procesar\n",
    "print(textos[15] + '\\n<Total de palabras = ' + str(len(textos[15].split())) + '>')\n",
    "print('\\n' + textos[50] + '\\n<Total de palabras = ' + str(len(textos[50].split()))+ '>')\n",
    "print('\\n' + textos[150] + '\\n<Total de palabras = ' + str(len(textos[150].split()))+ '>')"
   ]
  },
  {
   "cell_type": "markdown",
   "id": "a3bfdb2a-f42b-48fe-bcac-5ef973696772",
   "metadata": {},
   "source": [
    "De los ejemplos podemos decir que vamos a trabajar con textos tipo parrafo con alrededor de 80 a 100 palabras cada uno."
   ]
  },
  {
   "cell_type": "markdown",
   "id": "3077dab0-edd1-4ffb-a546-81e20c830e6b",
   "metadata": {
    "id": "3077dab0-edd1-4ffb-a546-81e20c830e6b"
   },
   "source": [
    "### Clase para procesar/preparar el texto"
   ]
  },
  {
   "cell_type": "code",
   "execution_count": 108,
   "id": "a291bc55-dd7f-47ff-b4e3-c720e7e9badc",
   "metadata": {
    "id": "a291bc55-dd7f-47ff-b4e3-c720e7e9badc"
   },
   "outputs": [],
   "source": [
    "class TextProcessor(BaseEstimator, TransformerMixin):\n",
    "    '''\n",
    "    A text processing class for text data. This transformer handles tokenization,\n",
    "    stop word removal, and stemming (optional), and transforms text data into\n",
    "    a bag-of-words representation.\n",
    "    '''\n",
    "    def __init__(self, token_cue = r'\\w+', language = 'spanish', stemming_switch = True):\n",
    "        self.language = language\n",
    "        self.token_cue = token_cue\n",
    "        self.stop_words_list = stopwords.words(self.language)\n",
    "        self.tokenizer = RegexpTokenizer(self.token_cue)\n",
    "        self.stemming_switch = stemming_switch\n",
    "        self.stemmer = SnowballStemmer(self.language)\n",
    "        self.vectorizer = TfidfVectorizer()\n",
    "\n",
    "    def fit(self, text, y = None):\n",
    "        \n",
    "        if self.stemming_switch:\n",
    "            processed_text = self.stemming(self.remove_stop_words(self.tokenize(text)))\n",
    "        else:\n",
    "            processed_text = self.remove_stop_words(self.tokenize(text))\n",
    "            \n",
    "        processed_text_str_lst = [' '.join(tokens) for tokens in processed_text]        \n",
    "        self.vectorizer.fit(processed_text_str_lst)\n",
    "        \n",
    "        return self\n",
    "\n",
    "    def tokenize(self,text):\n",
    "        return text.apply(lambda x: self.tokenizer.tokenize(x))\n",
    "\n",
    "    def remove_stop_words(self,text):\n",
    "        return text.apply(lambda x: [token for token in x if token not in self.stop_words_list])\n",
    "\n",
    "    def stemming(self,text):\n",
    "        #return text.apply(lambda x: [self.stemmer.stem(token) for token in x])\n",
    "        return text.apply(lambda x: [str(self.stemmer.stem(token)) for token in x])\n",
    "\n",
    "    def BOW_transform(self,stems):\n",
    "        return self.vectorizer.fit_transform(stems.apply(lambda x: ' '.join(x)))\n",
    "\n",
    "    def transform(self, text, y=None):\n",
    "        if self.stemming_switch:\n",
    "            processed_text = self.stemming(self.remove_stop_words(self.tokenize(text)))\n",
    "        else:\n",
    "            processed_text = self.remove_stop_words(self.tokenize(text))\n",
    "\n",
    "        # Usar el vectorizador ajustado para transformar los textos procesados\n",
    "        return self.vectorizer.transform([' '.join(tokens) for tokens in processed_text])"
   ]
  },
  {
   "cell_type": "markdown",
   "id": "jZ91M372B_8Q",
   "metadata": {
    "id": "jZ91M372B_8Q"
   },
   "source": [
    "**Dvision del set entre train y test**"
   ]
  },
  {
   "cell_type": "code",
   "execution_count": 111,
   "id": "d9c7f513-5b47-4727-9e77-d43caa7bef15",
   "metadata": {
    "id": "d9c7f513-5b47-4727-9e77-d43caa7bef15"
   },
   "outputs": [],
   "source": [
    "# Separar los datos en train y test\n",
    "X_train, X_test, y_train, y_test = train_test_split(textos, ODS, test_size = 0.2, random_state=0)"
   ]
  },
  {
   "cell_type": "markdown",
   "id": "b07db6ed-e518-4db0-be28-12e6ff032e4b",
   "metadata": {},
   "source": [
    "## Desarrollo de los Modelos"
   ]
  },
  {
   "cell_type": "markdown",
   "id": "358ce107-3874-425b-8636-49e45b473203",
   "metadata": {},
   "source": [
    "### Regresion Logistica"
   ]
  },
  {
   "cell_type": "markdown",
   "id": "b4cdfbc1-993f-4f23-a454-dcb8dc916e18",
   "metadata": {
    "id": "b4cdfbc1-993f-4f23-a454-dcb8dc916e18"
   },
   "source": [
    "**Definir el Pipeline para Regresion Logistica**"
   ]
  },
  {
   "cell_type": "code",
   "execution_count": 116,
   "id": "628e76f5-3b7f-4081-8b29-517a897c0f5e",
   "metadata": {
    "id": "628e76f5-3b7f-4081-8b29-517a897c0f5e",
    "outputId": "7b164909-0a9a-41d1-f353-85db211d4421"
   },
   "outputs": [],
   "source": [
    "pipeline_logreg = Pipeline([\n",
    "    ('text_processor', TextProcessor()),\n",
    "    ('tsvd', TruncatedSVD(n_components=100)),\n",
    "    ('logreg', LogisticRegression(max_iter=500))\n",
    "])"
   ]
  },
  {
   "cell_type": "markdown",
   "id": "66a26426-ce9e-4ed8-bdb6-109aeae7ec7d",
   "metadata": {
    "id": "66a26426-ce9e-4ed8-bdb6-109aeae7ec7d"
   },
   "source": [
    "**Buscar los mejores hiperparametros y seleccionar el mejor modelo**"
   ]
  },
  {
   "cell_type": "code",
   "execution_count": 119,
   "id": "9PYVmqISaY-5",
   "metadata": {
    "id": "9PYVmqISaY-5"
   },
   "outputs": [
    {
     "name": "stdout",
     "output_type": "stream",
     "text": [
      "Fitting 5 folds for each of 5 candidates, totalling 25 fits\n",
      "[CV 1/5] END logreg__C=0.5, text_processor__token_cue=\\w+, tsvd__n_components=75;, score=0.823 total time=  10.6s\n",
      "[CV 2/5] END logreg__C=0.5, text_processor__token_cue=\\w+, tsvd__n_components=75;, score=0.808 total time=  10.3s\n",
      "[CV 3/5] END logreg__C=0.5, text_processor__token_cue=\\w+, tsvd__n_components=75;, score=0.821 total time=  10.6s\n",
      "[CV 4/5] END logreg__C=0.5, text_processor__token_cue=\\w+, tsvd__n_components=75;, score=0.823 total time=  10.9s\n",
      "[CV 5/5] END logreg__C=0.5, text_processor__token_cue=\\w+, tsvd__n_components=75;, score=0.821 total time=  10.6s\n",
      "[CV 1/5] END logreg__C=0.5, text_processor__token_cue=\\w+, tsvd__n_components=85;, score=0.823 total time=  11.1s\n",
      "[CV 2/5] END logreg__C=0.5, text_processor__token_cue=\\w+, tsvd__n_components=85;, score=0.811 total time=  11.0s\n",
      "[CV 3/5] END logreg__C=0.5, text_processor__token_cue=\\w+, tsvd__n_components=85;, score=0.826 total time=  10.9s\n",
      "[CV 4/5] END logreg__C=0.5, text_processor__token_cue=\\w+, tsvd__n_components=85;, score=0.832 total time=  10.8s\n",
      "[CV 5/5] END logreg__C=0.5, text_processor__token_cue=\\w+, tsvd__n_components=85;, score=0.823 total time=  10.6s\n",
      "[CV 1/5] END logreg__C=1, text_processor__token_cue=\\w+, tsvd__n_components=100;, score=0.845 total time=  10.8s\n",
      "[CV 2/5] END logreg__C=1, text_processor__token_cue=\\w+, tsvd__n_components=100;, score=0.831 total time=  10.8s\n",
      "[CV 3/5] END logreg__C=1, text_processor__token_cue=\\w+, tsvd__n_components=100;, score=0.843 total time=  10.8s\n",
      "[CV 4/5] END logreg__C=1, text_processor__token_cue=\\w+, tsvd__n_components=100;, score=0.850 total time=  11.0s\n",
      "[CV 5/5] END logreg__C=1, text_processor__token_cue=\\w+, tsvd__n_components=100;, score=0.841 total time=  11.3s\n",
      "[CV 1/5] END logreg__C=0.5, text_processor__token_cue=(\\w+\\s+\\w+), tsvd__n_components=100;, score=0.827 total time=  11.6s\n",
      "[CV 2/5] END logreg__C=0.5, text_processor__token_cue=(\\w+\\s+\\w+), tsvd__n_components=100;, score=0.814 total time=  10.9s\n",
      "[CV 3/5] END logreg__C=0.5, text_processor__token_cue=(\\w+\\s+\\w+), tsvd__n_components=100;, score=0.830 total time=  11.0s\n",
      "[CV 4/5] END logreg__C=0.5, text_processor__token_cue=(\\w+\\s+\\w+), tsvd__n_components=100;, score=0.834 total time=  10.9s\n",
      "[CV 5/5] END logreg__C=0.5, text_processor__token_cue=(\\w+\\s+\\w+), tsvd__n_components=100;, score=0.830 total time=  11.1s\n",
      "[CV 1/5] END logreg__C=0.5, text_processor__token_cue=(\\w+\\s+\\w+), tsvd__n_components=75;, score=0.822 total time=  10.8s\n",
      "[CV 2/5] END logreg__C=0.5, text_processor__token_cue=(\\w+\\s+\\w+), tsvd__n_components=75;, score=0.809 total time=  10.7s\n",
      "[CV 3/5] END logreg__C=0.5, text_processor__token_cue=(\\w+\\s+\\w+), tsvd__n_components=75;, score=0.821 total time=  10.8s\n",
      "[CV 4/5] END logreg__C=0.5, text_processor__token_cue=(\\w+\\s+\\w+), tsvd__n_components=75;, score=0.825 total time=  10.6s\n",
      "[CV 5/5] END logreg__C=0.5, text_processor__token_cue=(\\w+\\s+\\w+), tsvd__n_components=75;, score=0.825 total time=  10.7s\n"
     ]
    }
   ],
   "source": [
    "# Encontrar los mejores hiperparametros\n",
    "# no se busca el mejor penalizador ya que de antemano se desea utilizar lbfgs\n",
    "# el cual no soporta otro tipo de penalizacion diferente a l2\n",
    "\n",
    "params_logreg = {\n",
    "    'text_processor__token_cue': [r'\\w+', r'(\\w+\\s+\\w+)'],  # Tokenización por palabras sencillas y por pares de palabras\n",
    "    'tsvd__n_components': [75,85,100],                      # Reducción de la dimensionalidad\n",
    "    'logreg__C': [0.5, 1, 5]                            # Regularización para la regresión logística\n",
    "}\n",
    "\n",
    "kfold = KFold(n_splits=5, shuffle=True, random_state=42)\n",
    "grid = RandomizedSearchCV(pipeline_logreg, param_distributions = params_logreg, n_iter = 5, cv=kfold, scoring='accuracy', random_state=42, verbose = 3)\n",
    "grid.fit(X_train, y_train)\n",
    "best_logreg = grid.best_estimator_"
   ]
  },
  {
   "cell_type": "markdown",
   "id": "75c4fbcf-7ccd-4f70-bd0f-27ddea7d1138",
   "metadata": {
    "id": "75c4fbcf-7ccd-4f70-bd0f-27ddea7d1138"
   },
   "source": [
    "**Evaluación del mejor modelo**\n"
   ]
  },
  {
   "cell_type": "code",
   "execution_count": 121,
   "id": "b9866e2c-96f4-43f0-a6c9-0c00783efa53",
   "metadata": {},
   "outputs": [
    {
     "data": {
      "text/plain": [
       "{'tsvd__n_components': 100,\n",
       " 'text_processor__token_cue': '\\\\w+',\n",
       " 'logreg__C': 1}"
      ]
     },
     "execution_count": 121,
     "metadata": {},
     "output_type": "execute_result"
    }
   ],
   "source": [
    "grid.best_params_"
   ]
  },
  {
   "cell_type": "code",
   "execution_count": 122,
   "id": "1364712f-0cdd-4806-b6f8-4b26cb47ad2d",
   "metadata": {
    "id": "1364712f-0cdd-4806-b6f8-4b26cb47ad2d",
    "outputId": "d6de1aeb-1749-4fb7-b6b3-98707d7b1be5"
   },
   "outputs": [
    {
     "name": "stdout",
     "output_type": "stream",
     "text": [
      "              precision    recall  f1-score   support\n",
      "\n",
      "           1       0.86      0.78      0.82        87\n",
      "           2       0.73      0.75      0.74        64\n",
      "           3       0.84      0.89      0.87       184\n",
      "           4       0.91      0.97      0.94       209\n",
      "           5       0.88      0.93      0.90       189\n",
      "           6       0.88      0.94      0.91       147\n",
      "           7       0.90      0.90      0.90       183\n",
      "           8       0.64      0.52      0.58        94\n",
      "           9       0.68      0.65      0.67        77\n",
      "          10       0.73      0.53      0.61        66\n",
      "          11       0.77      0.82      0.79       117\n",
      "          12       0.92      0.81      0.86        72\n",
      "          13       0.84      0.77      0.80        91\n",
      "          14       0.95      0.78      0.86        73\n",
      "          15       0.95      0.81      0.88        70\n",
      "          16       0.84      0.98      0.91       209\n",
      "\n",
      "    accuracy                           0.85      1932\n",
      "   macro avg       0.83      0.80      0.81      1932\n",
      "weighted avg       0.84      0.85      0.84      1932\n",
      "\n"
     ]
    }
   ],
   "source": [
    "# predecir los datos de prueba\n",
    "y_pred_logreg = best_logreg.predict(X_test) \n",
    "# sacar metricas\n",
    "print(classification_report(y_test, y_pred_logreg))"
   ]
  },
  {
   "cell_type": "markdown",
   "id": "7e1466d0-2f80-42ee-a61b-c096c69f7505",
   "metadata": {},
   "source": [
    "### Random Forest"
   ]
  },
  {
   "cell_type": "markdown",
   "id": "fa91694f-0254-4cfb-a6ec-9f80e31de2d0",
   "metadata": {
    "id": "fa91694f-0254-4cfb-a6ec-9f80e31de2d0"
   },
   "source": [
    "****Definir el Pipeline para RandomForestClassifier****"
   ]
  },
  {
   "cell_type": "code",
   "execution_count": 39,
   "id": "2d66172a-6f1d-4dd3-9da6-23157a529c69",
   "metadata": {
    "id": "2d66172a-6f1d-4dd3-9da6-23157a529c69",
    "outputId": "7b0a2378-a669-420e-81e0-159902c56a35"
   },
   "outputs": [],
   "source": [
    "pipeline_RFC = Pipeline([\n",
    "    ('text_processor', TextProcessor()),\n",
    "    ('tsvd', TruncatedSVD(n_components=100)),\n",
    "    ('ramdom_forest', RandomForestClassifier())\n",
    "])"
   ]
  },
  {
   "cell_type": "markdown",
   "id": "7b249b5a-8f0f-4030-aabd-ebbc8182685b",
   "metadata": {},
   "source": [
    "**Buscar los mejores hiperparametros y seleccionar el mejor modelo**"
   ]
  },
  {
   "cell_type": "code",
   "execution_count": 41,
   "id": "5415ef09-fd59-482b-811c-d47fd7948642",
   "metadata": {},
   "outputs": [],
   "source": [
    "params_RFC = dict(ramdom_forest__n_estimators= [5, 10, 20, 50], ramdom_forest__max_depth=[5,8,10])\n",
    "params_RFC['text_processor__token_cue'] = [r'\\w+', r'(\\w+\\s+\\w+)']\n",
    "\n",
    "kfold = KFold(n_splits=5, shuffle=True, random_state=42)\n",
    "#grid = GridSearchCV(pipeline_RFC, params_RFC, cv=kfold, scoring = 'accuracy', n_jobs=1) usando RandomizedSearchCV que puede ahorrar tiempo\n",
    "grid = RandomizedSearchCV(pipeline_RFC, param_distributions = params_RFC,  n_iter = 5, cv=kfold, scoring='accuracy', random_state=42)\n",
    "grid.fit(X_train, y_train)\n",
    "best_RFC = grid.best_estimator_"
   ]
  },
  {
   "cell_type": "markdown",
   "id": "ca6b4817-ae8d-482c-896b-4d0a2e89fa63",
   "metadata": {},
   "source": [
    "**Evaluación del mejor modelo**\n"
   ]
  },
  {
   "cell_type": "code",
   "execution_count": 42,
   "id": "7d405d0e-b995-4448-97d4-39bc2f721ba4",
   "metadata": {},
   "outputs": [
    {
     "data": {
      "text/plain": [
       "{'text_processor__token_cue': '\\\\w+',\n",
       " 'ramdom_forest__n_estimators': 10,\n",
       " 'ramdom_forest__max_depth': 10}"
      ]
     },
     "execution_count": 42,
     "metadata": {},
     "output_type": "execute_result"
    }
   ],
   "source": [
    "grid.best_params_"
   ]
  },
  {
   "cell_type": "code",
   "execution_count": 43,
   "id": "a059f2dc-094f-47b1-8915-3e0fa4af1e7e",
   "metadata": {
    "id": "a059f2dc-094f-47b1-8915-3e0fa4af1e7e",
    "outputId": "bca8b86c-51ef-4121-febe-110f33cdbfe0"
   },
   "outputs": [
    {
     "name": "stdout",
     "output_type": "stream",
     "text": [
      "              precision    recall  f1-score   support\n",
      "\n",
      "           1       0.78      0.70      0.74        87\n",
      "           2       0.59      0.64      0.62        64\n",
      "           3       0.73      0.78      0.75       184\n",
      "           4       0.83      0.93      0.88       209\n",
      "           5       0.84      0.88      0.86       189\n",
      "           6       0.83      0.93      0.88       147\n",
      "           7       0.81      0.83      0.82       183\n",
      "           8       0.55      0.33      0.41        94\n",
      "           9       0.56      0.52      0.54        77\n",
      "          10       0.76      0.42      0.54        66\n",
      "          11       0.62      0.66      0.64       117\n",
      "          12       0.80      0.61      0.69        72\n",
      "          13       0.77      0.69      0.73        91\n",
      "          14       0.78      0.58      0.66        73\n",
      "          15       0.74      0.44      0.55        70\n",
      "          16       0.72      0.95      0.82       209\n",
      "\n",
      "    accuracy                           0.75      1932\n",
      "   macro avg       0.73      0.68      0.70      1932\n",
      "weighted avg       0.75      0.75      0.74      1932\n",
      "\n"
     ]
    }
   ],
   "source": [
    "# predecir los datos de prueba\n",
    "y_pred_RFC = best_RFC.predict(X_test)\n",
    "# sacar metricas\n",
    "print(classification_report(y_test, y_pred_RFC))"
   ]
  },
  {
   "cell_type": "markdown",
   "id": "a7304d25-1f2c-4e31-b70e-633694b224b4",
   "metadata": {
    "id": "a7304d25-1f2c-4e31-b70e-633694b224b4"
   },
   "source": [
    "### Perceptron Multicapa"
   ]
  },
  {
   "cell_type": "code",
   "execution_count": 47,
   "id": "YrWA4b3YCyqL",
   "metadata": {
    "id": "YrWA4b3YCyqL"
   },
   "outputs": [],
   "source": [
    "class NNModel(BaseEstimator, TransformerMixin):\n",
    "    def __init__(self, params=None, x_val=None, y_val=None):\n",
    "      self.y_val = y_val\n",
    "      self.x_val = x_val\n",
    "      self.x_train_shape = None\n",
    "      self.params = None\n",
    "      self.best_model_ = None\n",
    "\n",
    "    def fit(self, x_train, y_train ):\n",
    "        print(x_train.shape)\n",
    "        self.x_train_shape = x_train.shape[1]\n",
    "        tuner = kt.RandomSearch(\n",
    "            self.build_mlp,\n",
    "            objective=\"val_accuracy\",\n",
    "            seed=0,\n",
    "            max_trials=5)\n",
    "        tuner.search(x_train, \n",
    "                     y_train,\n",
    "                     validation_split=0.2,\n",
    "                     batch_size=32,\n",
    "                     epochs=100)\n",
    "        \n",
    "        print(tuner)\n",
    "        self.best_model_ = tuner.get_best_models()[0]\n",
    "        return self\n",
    "\n",
    "    def build_mlp(self, hp):\n",
    "        print('build_mlp')\n",
    "        mlp = Sequential()\n",
    "        # Especificamos el espacio de búsqueda para el número de neuronas por capa\n",
    "        neurons = hp.Choice('neurons', [10,50, 150, 300])\n",
    "        # Igualmente, especificamos el espacio de búsqueda para el número de capas ocultas\n",
    "        layers = hp.Choice('layers', [1, 3, 5])\n",
    "\n",
    "        # Espacio de búsqueda para la tasa de aprendizaje\n",
    "        learning_rate = hp.Choice('learning_rate', [0.001, 0.01, 0.1])\n",
    "    \n",
    "        mlp.add(Input(shape=(self.x_train_shape,), name='capa_entrada'))\n",
    "        for i in range(layers):\n",
    "            mlp.add(Dense(neurons,activation='relu',name=f'capa_oculta_{i+1}'))\n",
    "        mlp.add(Dense(16,activation='softmax',name='capa_salida'))\n",
    "        \n",
    "        optimizer = keras.optimizers.Adam(learning_rate=learning_rate)\n",
    "        mlp.compile(loss='categorical_crossentropy', optimizer=optimizer, metrics=['accuracy'])\n",
    "        return mlp\n",
    "\n",
    "    def transform(self, text, y=None):\n",
    "        if self.best_model_ is None:\n",
    "            raise RuntimeError(\"Fit debe ser llamado  ya que no se ha ajustado el modelo aun.\")\n",
    "        return self.best_model_.predict(text)\n",
    "\n",
    "    def predict(self, x, y=None):\n",
    "        if self.best_model_ is None:\n",
    "            raise RuntimeError(\"Model must be fitted before calling transform.\")\n",
    "        predictions = self.best_model_.predict(x)\n",
    "        return np.argmax(predictions, axis=1)"
   ]
  },
  {
   "cell_type": "code",
   "execution_count": 49,
   "id": "d8bc060e-d5d2-46d5-ada0-846fc782b815",
   "metadata": {},
   "outputs": [],
   "source": [
    "mlp = MLPClassifier(hidden_layer_sizes=(100,100,100), activation='relu', solver='adam', max_iter=500, random_state=42) "
   ]
  },
  {
   "cell_type": "markdown",
   "id": "494b533d-27a6-45e3-a032-98243b058a39",
   "metadata": {},
   "source": [
    "****Definir el Pipeline para el perceptron multicapa****"
   ]
  },
  {
   "cell_type": "code",
   "execution_count": 51,
   "id": "93d5c4cb-5b04-42b6-a257-e621efbb967d",
   "metadata": {},
   "outputs": [],
   "source": [
    "# Darles formato a las variables de salida\n",
    "y_train_NN = pd.get_dummies(y_train)\n",
    "y_test_NN = pd.get_dummies(y_test)"
   ]
  },
  {
   "cell_type": "code",
   "execution_count": 53,
   "id": "9454e774-fb71-4edf-a5fa-48bdfb5e5f43",
   "metadata": {
    "colab": {
     "base_uri": "https://localhost:8080/",
     "height": 1000
    },
    "id": "9454e774-fb71-4edf-a5fa-48bdfb5e5f43",
    "outputId": "2a79214a-471d-4a6a-f358-bf887c79736a"
   },
   "outputs": [
    {
     "data": {
      "text/html": [
       "<style>#sk-container-id-1 {\n",
       "  /* Definition of color scheme common for light and dark mode */\n",
       "  --sklearn-color-text: black;\n",
       "  --sklearn-color-line: gray;\n",
       "  /* Definition of color scheme for unfitted estimators */\n",
       "  --sklearn-color-unfitted-level-0: #fff5e6;\n",
       "  --sklearn-color-unfitted-level-1: #f6e4d2;\n",
       "  --sklearn-color-unfitted-level-2: #ffe0b3;\n",
       "  --sklearn-color-unfitted-level-3: chocolate;\n",
       "  /* Definition of color scheme for fitted estimators */\n",
       "  --sklearn-color-fitted-level-0: #f0f8ff;\n",
       "  --sklearn-color-fitted-level-1: #d4ebff;\n",
       "  --sklearn-color-fitted-level-2: #b3dbfd;\n",
       "  --sklearn-color-fitted-level-3: cornflowerblue;\n",
       "\n",
       "  /* Specific color for light theme */\n",
       "  --sklearn-color-text-on-default-background: var(--sg-text-color, var(--theme-code-foreground, var(--jp-content-font-color1, black)));\n",
       "  --sklearn-color-background: var(--sg-background-color, var(--theme-background, var(--jp-layout-color0, white)));\n",
       "  --sklearn-color-border-box: var(--sg-text-color, var(--theme-code-foreground, var(--jp-content-font-color1, black)));\n",
       "  --sklearn-color-icon: #696969;\n",
       "\n",
       "  @media (prefers-color-scheme: dark) {\n",
       "    /* Redefinition of color scheme for dark theme */\n",
       "    --sklearn-color-text-on-default-background: var(--sg-text-color, var(--theme-code-foreground, var(--jp-content-font-color1, white)));\n",
       "    --sklearn-color-background: var(--sg-background-color, var(--theme-background, var(--jp-layout-color0, #111)));\n",
       "    --sklearn-color-border-box: var(--sg-text-color, var(--theme-code-foreground, var(--jp-content-font-color1, white)));\n",
       "    --sklearn-color-icon: #878787;\n",
       "  }\n",
       "}\n",
       "\n",
       "#sk-container-id-1 {\n",
       "  color: var(--sklearn-color-text);\n",
       "}\n",
       "\n",
       "#sk-container-id-1 pre {\n",
       "  padding: 0;\n",
       "}\n",
       "\n",
       "#sk-container-id-1 input.sk-hidden--visually {\n",
       "  border: 0;\n",
       "  clip: rect(1px 1px 1px 1px);\n",
       "  clip: rect(1px, 1px, 1px, 1px);\n",
       "  height: 1px;\n",
       "  margin: -1px;\n",
       "  overflow: hidden;\n",
       "  padding: 0;\n",
       "  position: absolute;\n",
       "  width: 1px;\n",
       "}\n",
       "\n",
       "#sk-container-id-1 div.sk-dashed-wrapped {\n",
       "  border: 1px dashed var(--sklearn-color-line);\n",
       "  margin: 0 0.4em 0.5em 0.4em;\n",
       "  box-sizing: border-box;\n",
       "  padding-bottom: 0.4em;\n",
       "  background-color: var(--sklearn-color-background);\n",
       "}\n",
       "\n",
       "#sk-container-id-1 div.sk-container {\n",
       "  /* jupyter's `normalize.less` sets `[hidden] { display: none; }`\n",
       "     but bootstrap.min.css set `[hidden] { display: none !important; }`\n",
       "     so we also need the `!important` here to be able to override the\n",
       "     default hidden behavior on the sphinx rendered scikit-learn.org.\n",
       "     See: https://github.com/scikit-learn/scikit-learn/issues/21755 */\n",
       "  display: inline-block !important;\n",
       "  position: relative;\n",
       "}\n",
       "\n",
       "#sk-container-id-1 div.sk-text-repr-fallback {\n",
       "  display: none;\n",
       "}\n",
       "\n",
       "div.sk-parallel-item,\n",
       "div.sk-serial,\n",
       "div.sk-item {\n",
       "  /* draw centered vertical line to link estimators */\n",
       "  background-image: linear-gradient(var(--sklearn-color-text-on-default-background), var(--sklearn-color-text-on-default-background));\n",
       "  background-size: 2px 100%;\n",
       "  background-repeat: no-repeat;\n",
       "  background-position: center center;\n",
       "}\n",
       "\n",
       "/* Parallel-specific style estimator block */\n",
       "\n",
       "#sk-container-id-1 div.sk-parallel-item::after {\n",
       "  content: \"\";\n",
       "  width: 100%;\n",
       "  border-bottom: 2px solid var(--sklearn-color-text-on-default-background);\n",
       "  flex-grow: 1;\n",
       "}\n",
       "\n",
       "#sk-container-id-1 div.sk-parallel {\n",
       "  display: flex;\n",
       "  align-items: stretch;\n",
       "  justify-content: center;\n",
       "  background-color: var(--sklearn-color-background);\n",
       "  position: relative;\n",
       "}\n",
       "\n",
       "#sk-container-id-1 div.sk-parallel-item {\n",
       "  display: flex;\n",
       "  flex-direction: column;\n",
       "}\n",
       "\n",
       "#sk-container-id-1 div.sk-parallel-item:first-child::after {\n",
       "  align-self: flex-end;\n",
       "  width: 50%;\n",
       "}\n",
       "\n",
       "#sk-container-id-1 div.sk-parallel-item:last-child::after {\n",
       "  align-self: flex-start;\n",
       "  width: 50%;\n",
       "}\n",
       "\n",
       "#sk-container-id-1 div.sk-parallel-item:only-child::after {\n",
       "  width: 0;\n",
       "}\n",
       "\n",
       "/* Serial-specific style estimator block */\n",
       "\n",
       "#sk-container-id-1 div.sk-serial {\n",
       "  display: flex;\n",
       "  flex-direction: column;\n",
       "  align-items: center;\n",
       "  background-color: var(--sklearn-color-background);\n",
       "  padding-right: 1em;\n",
       "  padding-left: 1em;\n",
       "}\n",
       "\n",
       "\n",
       "/* Toggleable style: style used for estimator/Pipeline/ColumnTransformer box that is\n",
       "clickable and can be expanded/collapsed.\n",
       "- Pipeline and ColumnTransformer use this feature and define the default style\n",
       "- Estimators will overwrite some part of the style using the `sk-estimator` class\n",
       "*/\n",
       "\n",
       "/* Pipeline and ColumnTransformer style (default) */\n",
       "\n",
       "#sk-container-id-1 div.sk-toggleable {\n",
       "  /* Default theme specific background. It is overwritten whether we have a\n",
       "  specific estimator or a Pipeline/ColumnTransformer */\n",
       "  background-color: var(--sklearn-color-background);\n",
       "}\n",
       "\n",
       "/* Toggleable label */\n",
       "#sk-container-id-1 label.sk-toggleable__label {\n",
       "  cursor: pointer;\n",
       "  display: block;\n",
       "  width: 100%;\n",
       "  margin-bottom: 0;\n",
       "  padding: 0.5em;\n",
       "  box-sizing: border-box;\n",
       "  text-align: center;\n",
       "}\n",
       "\n",
       "#sk-container-id-1 label.sk-toggleable__label-arrow:before {\n",
       "  /* Arrow on the left of the label */\n",
       "  content: \"▸\";\n",
       "  float: left;\n",
       "  margin-right: 0.25em;\n",
       "  color: var(--sklearn-color-icon);\n",
       "}\n",
       "\n",
       "#sk-container-id-1 label.sk-toggleable__label-arrow:hover:before {\n",
       "  color: var(--sklearn-color-text);\n",
       "}\n",
       "\n",
       "/* Toggleable content - dropdown */\n",
       "\n",
       "#sk-container-id-1 div.sk-toggleable__content {\n",
       "  max-height: 0;\n",
       "  max-width: 0;\n",
       "  overflow: hidden;\n",
       "  text-align: left;\n",
       "  /* unfitted */\n",
       "  background-color: var(--sklearn-color-unfitted-level-0);\n",
       "}\n",
       "\n",
       "#sk-container-id-1 div.sk-toggleable__content.fitted {\n",
       "  /* fitted */\n",
       "  background-color: var(--sklearn-color-fitted-level-0);\n",
       "}\n",
       "\n",
       "#sk-container-id-1 div.sk-toggleable__content pre {\n",
       "  margin: 0.2em;\n",
       "  border-radius: 0.25em;\n",
       "  color: var(--sklearn-color-text);\n",
       "  /* unfitted */\n",
       "  background-color: var(--sklearn-color-unfitted-level-0);\n",
       "}\n",
       "\n",
       "#sk-container-id-1 div.sk-toggleable__content.fitted pre {\n",
       "  /* unfitted */\n",
       "  background-color: var(--sklearn-color-fitted-level-0);\n",
       "}\n",
       "\n",
       "#sk-container-id-1 input.sk-toggleable__control:checked~div.sk-toggleable__content {\n",
       "  /* Expand drop-down */\n",
       "  max-height: 200px;\n",
       "  max-width: 100%;\n",
       "  overflow: auto;\n",
       "}\n",
       "\n",
       "#sk-container-id-1 input.sk-toggleable__control:checked~label.sk-toggleable__label-arrow:before {\n",
       "  content: \"▾\";\n",
       "}\n",
       "\n",
       "/* Pipeline/ColumnTransformer-specific style */\n",
       "\n",
       "#sk-container-id-1 div.sk-label input.sk-toggleable__control:checked~label.sk-toggleable__label {\n",
       "  color: var(--sklearn-color-text);\n",
       "  background-color: var(--sklearn-color-unfitted-level-2);\n",
       "}\n",
       "\n",
       "#sk-container-id-1 div.sk-label.fitted input.sk-toggleable__control:checked~label.sk-toggleable__label {\n",
       "  background-color: var(--sklearn-color-fitted-level-2);\n",
       "}\n",
       "\n",
       "/* Estimator-specific style */\n",
       "\n",
       "/* Colorize estimator box */\n",
       "#sk-container-id-1 div.sk-estimator input.sk-toggleable__control:checked~label.sk-toggleable__label {\n",
       "  /* unfitted */\n",
       "  background-color: var(--sklearn-color-unfitted-level-2);\n",
       "}\n",
       "\n",
       "#sk-container-id-1 div.sk-estimator.fitted input.sk-toggleable__control:checked~label.sk-toggleable__label {\n",
       "  /* fitted */\n",
       "  background-color: var(--sklearn-color-fitted-level-2);\n",
       "}\n",
       "\n",
       "#sk-container-id-1 div.sk-label label.sk-toggleable__label,\n",
       "#sk-container-id-1 div.sk-label label {\n",
       "  /* The background is the default theme color */\n",
       "  color: var(--sklearn-color-text-on-default-background);\n",
       "}\n",
       "\n",
       "/* On hover, darken the color of the background */\n",
       "#sk-container-id-1 div.sk-label:hover label.sk-toggleable__label {\n",
       "  color: var(--sklearn-color-text);\n",
       "  background-color: var(--sklearn-color-unfitted-level-2);\n",
       "}\n",
       "\n",
       "/* Label box, darken color on hover, fitted */\n",
       "#sk-container-id-1 div.sk-label.fitted:hover label.sk-toggleable__label.fitted {\n",
       "  color: var(--sklearn-color-text);\n",
       "  background-color: var(--sklearn-color-fitted-level-2);\n",
       "}\n",
       "\n",
       "/* Estimator label */\n",
       "\n",
       "#sk-container-id-1 div.sk-label label {\n",
       "  font-family: monospace;\n",
       "  font-weight: bold;\n",
       "  display: inline-block;\n",
       "  line-height: 1.2em;\n",
       "}\n",
       "\n",
       "#sk-container-id-1 div.sk-label-container {\n",
       "  text-align: center;\n",
       "}\n",
       "\n",
       "/* Estimator-specific */\n",
       "#sk-container-id-1 div.sk-estimator {\n",
       "  font-family: monospace;\n",
       "  border: 1px dotted var(--sklearn-color-border-box);\n",
       "  border-radius: 0.25em;\n",
       "  box-sizing: border-box;\n",
       "  margin-bottom: 0.5em;\n",
       "  /* unfitted */\n",
       "  background-color: var(--sklearn-color-unfitted-level-0);\n",
       "}\n",
       "\n",
       "#sk-container-id-1 div.sk-estimator.fitted {\n",
       "  /* fitted */\n",
       "  background-color: var(--sklearn-color-fitted-level-0);\n",
       "}\n",
       "\n",
       "/* on hover */\n",
       "#sk-container-id-1 div.sk-estimator:hover {\n",
       "  /* unfitted */\n",
       "  background-color: var(--sklearn-color-unfitted-level-2);\n",
       "}\n",
       "\n",
       "#sk-container-id-1 div.sk-estimator.fitted:hover {\n",
       "  /* fitted */\n",
       "  background-color: var(--sklearn-color-fitted-level-2);\n",
       "}\n",
       "\n",
       "/* Specification for estimator info (e.g. \"i\" and \"?\") */\n",
       "\n",
       "/* Common style for \"i\" and \"?\" */\n",
       "\n",
       ".sk-estimator-doc-link,\n",
       "a:link.sk-estimator-doc-link,\n",
       "a:visited.sk-estimator-doc-link {\n",
       "  float: right;\n",
       "  font-size: smaller;\n",
       "  line-height: 1em;\n",
       "  font-family: monospace;\n",
       "  background-color: var(--sklearn-color-background);\n",
       "  border-radius: 1em;\n",
       "  height: 1em;\n",
       "  width: 1em;\n",
       "  text-decoration: none !important;\n",
       "  margin-left: 1ex;\n",
       "  /* unfitted */\n",
       "  border: var(--sklearn-color-unfitted-level-1) 1pt solid;\n",
       "  color: var(--sklearn-color-unfitted-level-1);\n",
       "}\n",
       "\n",
       ".sk-estimator-doc-link.fitted,\n",
       "a:link.sk-estimator-doc-link.fitted,\n",
       "a:visited.sk-estimator-doc-link.fitted {\n",
       "  /* fitted */\n",
       "  border: var(--sklearn-color-fitted-level-1) 1pt solid;\n",
       "  color: var(--sklearn-color-fitted-level-1);\n",
       "}\n",
       "\n",
       "/* On hover */\n",
       "div.sk-estimator:hover .sk-estimator-doc-link:hover,\n",
       ".sk-estimator-doc-link:hover,\n",
       "div.sk-label-container:hover .sk-estimator-doc-link:hover,\n",
       ".sk-estimator-doc-link:hover {\n",
       "  /* unfitted */\n",
       "  background-color: var(--sklearn-color-unfitted-level-3);\n",
       "  color: var(--sklearn-color-background);\n",
       "  text-decoration: none;\n",
       "}\n",
       "\n",
       "div.sk-estimator.fitted:hover .sk-estimator-doc-link.fitted:hover,\n",
       ".sk-estimator-doc-link.fitted:hover,\n",
       "div.sk-label-container:hover .sk-estimator-doc-link.fitted:hover,\n",
       ".sk-estimator-doc-link.fitted:hover {\n",
       "  /* fitted */\n",
       "  background-color: var(--sklearn-color-fitted-level-3);\n",
       "  color: var(--sklearn-color-background);\n",
       "  text-decoration: none;\n",
       "}\n",
       "\n",
       "/* Span, style for the box shown on hovering the info icon */\n",
       ".sk-estimator-doc-link span {\n",
       "  display: none;\n",
       "  z-index: 9999;\n",
       "  position: relative;\n",
       "  font-weight: normal;\n",
       "  right: .2ex;\n",
       "  padding: .5ex;\n",
       "  margin: .5ex;\n",
       "  width: min-content;\n",
       "  min-width: 20ex;\n",
       "  max-width: 50ex;\n",
       "  color: var(--sklearn-color-text);\n",
       "  box-shadow: 2pt 2pt 4pt #999;\n",
       "  /* unfitted */\n",
       "  background: var(--sklearn-color-unfitted-level-0);\n",
       "  border: .5pt solid var(--sklearn-color-unfitted-level-3);\n",
       "}\n",
       "\n",
       ".sk-estimator-doc-link.fitted span {\n",
       "  /* fitted */\n",
       "  background: var(--sklearn-color-fitted-level-0);\n",
       "  border: var(--sklearn-color-fitted-level-3);\n",
       "}\n",
       "\n",
       ".sk-estimator-doc-link:hover span {\n",
       "  display: block;\n",
       "}\n",
       "\n",
       "/* \"?\"-specific style due to the `<a>` HTML tag */\n",
       "\n",
       "#sk-container-id-1 a.estimator_doc_link {\n",
       "  float: right;\n",
       "  font-size: 1rem;\n",
       "  line-height: 1em;\n",
       "  font-family: monospace;\n",
       "  background-color: var(--sklearn-color-background);\n",
       "  border-radius: 1rem;\n",
       "  height: 1rem;\n",
       "  width: 1rem;\n",
       "  text-decoration: none;\n",
       "  /* unfitted */\n",
       "  color: var(--sklearn-color-unfitted-level-1);\n",
       "  border: var(--sklearn-color-unfitted-level-1) 1pt solid;\n",
       "}\n",
       "\n",
       "#sk-container-id-1 a.estimator_doc_link.fitted {\n",
       "  /* fitted */\n",
       "  border: var(--sklearn-color-fitted-level-1) 1pt solid;\n",
       "  color: var(--sklearn-color-fitted-level-1);\n",
       "}\n",
       "\n",
       "/* On hover */\n",
       "#sk-container-id-1 a.estimator_doc_link:hover {\n",
       "  /* unfitted */\n",
       "  background-color: var(--sklearn-color-unfitted-level-3);\n",
       "  color: var(--sklearn-color-background);\n",
       "  text-decoration: none;\n",
       "}\n",
       "\n",
       "#sk-container-id-1 a.estimator_doc_link.fitted:hover {\n",
       "  /* fitted */\n",
       "  background-color: var(--sklearn-color-fitted-level-3);\n",
       "}\n",
       "</style><div id=\"sk-container-id-1\" class=\"sk-top-container\"><div class=\"sk-text-repr-fallback\"><pre>Pipeline(steps=[(&#x27;text_processor&#x27;, TextProcessor()),\n",
       "                (&#x27;tsvd&#x27;, TruncatedSVD(n_components=100)),\n",
       "                (&#x27;NN&#x27;,\n",
       "                 MLPClassifier(hidden_layer_sizes=(100, 100, 100), max_iter=500,\n",
       "                               random_state=42))])</pre><b>In a Jupyter environment, please rerun this cell to show the HTML representation or trust the notebook. <br />On GitHub, the HTML representation is unable to render, please try loading this page with nbviewer.org.</b></div><div class=\"sk-container\" hidden><div class=\"sk-item sk-dashed-wrapped\"><div class=\"sk-label-container\"><div class=\"sk-label fitted sk-toggleable\"><input class=\"sk-toggleable__control sk-hidden--visually\" id=\"sk-estimator-id-1\" type=\"checkbox\" ><label for=\"sk-estimator-id-1\" class=\"sk-toggleable__label fitted sk-toggleable__label-arrow fitted\">&nbsp;&nbsp;Pipeline<a class=\"sk-estimator-doc-link fitted\" rel=\"noreferrer\" target=\"_blank\" href=\"https://scikit-learn.org/1.5/modules/generated/sklearn.pipeline.Pipeline.html\">?<span>Documentation for Pipeline</span></a><span class=\"sk-estimator-doc-link fitted\">i<span>Fitted</span></span></label><div class=\"sk-toggleable__content fitted\"><pre>Pipeline(steps=[(&#x27;text_processor&#x27;, TextProcessor()),\n",
       "                (&#x27;tsvd&#x27;, TruncatedSVD(n_components=100)),\n",
       "                (&#x27;NN&#x27;,\n",
       "                 MLPClassifier(hidden_layer_sizes=(100, 100, 100), max_iter=500,\n",
       "                               random_state=42))])</pre></div> </div></div><div class=\"sk-serial\"><div class=\"sk-item\"><div class=\"sk-estimator fitted sk-toggleable\"><input class=\"sk-toggleable__control sk-hidden--visually\" id=\"sk-estimator-id-2\" type=\"checkbox\" ><label for=\"sk-estimator-id-2\" class=\"sk-toggleable__label fitted sk-toggleable__label-arrow fitted\">TextProcessor</label><div class=\"sk-toggleable__content fitted\"><pre>TextProcessor()</pre></div> </div></div><div class=\"sk-item\"><div class=\"sk-estimator fitted sk-toggleable\"><input class=\"sk-toggleable__control sk-hidden--visually\" id=\"sk-estimator-id-3\" type=\"checkbox\" ><label for=\"sk-estimator-id-3\" class=\"sk-toggleable__label fitted sk-toggleable__label-arrow fitted\">&nbsp;TruncatedSVD<a class=\"sk-estimator-doc-link fitted\" rel=\"noreferrer\" target=\"_blank\" href=\"https://scikit-learn.org/1.5/modules/generated/sklearn.decomposition.TruncatedSVD.html\">?<span>Documentation for TruncatedSVD</span></a></label><div class=\"sk-toggleable__content fitted\"><pre>TruncatedSVD(n_components=100)</pre></div> </div></div><div class=\"sk-item\"><div class=\"sk-estimator fitted sk-toggleable\"><input class=\"sk-toggleable__control sk-hidden--visually\" id=\"sk-estimator-id-4\" type=\"checkbox\" ><label for=\"sk-estimator-id-4\" class=\"sk-toggleable__label fitted sk-toggleable__label-arrow fitted\">&nbsp;MLPClassifier<a class=\"sk-estimator-doc-link fitted\" rel=\"noreferrer\" target=\"_blank\" href=\"https://scikit-learn.org/1.5/modules/generated/sklearn.neural_network.MLPClassifier.html\">?<span>Documentation for MLPClassifier</span></a></label><div class=\"sk-toggleable__content fitted\"><pre>MLPClassifier(hidden_layer_sizes=(100, 100, 100), max_iter=500, random_state=42)</pre></div> </div></div></div></div></div></div>"
      ],
      "text/plain": [
       "Pipeline(steps=[('text_processor', TextProcessor()),\n",
       "                ('tsvd', TruncatedSVD(n_components=100)),\n",
       "                ('NN',\n",
       "                 MLPClassifier(hidden_layer_sizes=(100, 100, 100), max_iter=500,\n",
       "                               random_state=42))])"
      ]
     },
     "execution_count": 53,
     "metadata": {},
     "output_type": "execute_result"
    }
   ],
   "source": [
    "#Se debe dividir el conjunto de entrenamiento en: entrenamiento y validacion\n",
    "# Y pasarle los parametros de inicializacion a NNModel\n",
    "pipeline_NN = Pipeline([\n",
    "    ('text_processor', TextProcessor()),\n",
    "    ('tsvd', TruncatedSVD(n_components=100)),\n",
    "    ('NN', mlp)\n",
    "])\n",
    "pipeline_NN.fit(X_train[:1000], y_train_NN[:1000])\n"
   ]
  },
  {
   "cell_type": "markdown",
   "id": "5245d053-662f-49cb-898e-f5286231407c",
   "metadata": {},
   "source": [
    "**Evaluación del mejor modelo**\n"
   ]
  },
  {
   "cell_type": "code",
   "execution_count": 54,
   "id": "f0d058fa-fa9d-460b-9c1b-24ff7d642adb",
   "metadata": {},
   "outputs": [
    {
     "name": "stdout",
     "output_type": "stream",
     "text": [
      "              precision    recall  f1-score   support\n",
      "\n",
      "           0       0.89      0.64      0.75        87\n",
      "           1       0.71      0.47      0.57        64\n",
      "           2       0.91      0.79      0.85       184\n",
      "           3       0.92      0.89      0.91       209\n",
      "           4       0.87      0.87      0.87       189\n",
      "           5       0.86      0.85      0.86       147\n",
      "           6       0.89      0.80      0.84       183\n",
      "           7       0.49      0.39      0.44        94\n",
      "           8       0.52      0.19      0.28        77\n",
      "           9       0.85      0.42      0.57        66\n",
      "          10       0.75      0.71      0.73       117\n",
      "          11       0.80      0.50      0.62        72\n",
      "          12       0.80      0.62      0.70        91\n",
      "          13       0.88      0.62      0.73        73\n",
      "          14       0.84      0.46      0.59        70\n",
      "          15       0.92      0.93      0.93       209\n",
      "\n",
      "   micro avg       0.85      0.71      0.78      1932\n",
      "   macro avg       0.81      0.64      0.70      1932\n",
      "weighted avg       0.83      0.71      0.76      1932\n",
      " samples avg       0.89      0.71      0.70      1932\n",
      "\n"
     ]
    }
   ],
   "source": [
    "y_pred_NN = pipeline_NN.predict(X_test)\n",
    "print(classification_report(y_test_NN, y_pred_NN,zero_division = 1))"
   ]
  },
  {
   "cell_type": "markdown",
   "id": "4d2d4752-6fa7-44e8-981c-585e6f19eef0",
   "metadata": {
    "id": "4d2d4752-6fa7-44e8-981c-585e6f19eef0"
   },
   "source": [
    "## Discusion y Conclusiones"
   ]
  },
  {
   "cell_type": "markdown",
   "id": "039b28ba-f8f1-4001-b031-8cd5aba87b7a",
   "metadata": {
    "id": "5dd178b1-d237-4cb7-a6f3-b753b4c4d519"
   },
   "source": [
    "Se abordaron tres enfoques para el problema propuesto: Regresión logística, Random Forest y Redes Neuronales.\n",
    "\n",
    "La construcción del pipeline para los tres modelos siguió un patrón común que consistía en los siguientes pasos:\n",
    "\n",
    "***1. Procesamiento del texto***: Este paso se encarga de transformar los textos en su forma cruda a una representación vectorial. Para ello, se aplicó un proceso de stemming, eligiendo esta técnica por su baja complejidad de implementación gracias a las librerías disponibles. Posteriormente, se eliminaron las stop words, ya que no aportan valor a la solución del problema. A continuación, se realizó una tokenización por palabras y, finalmente, se vectorizó el resultado utilizando TF-IDF, obteniendo así un Bag of Words (BOW) de palabras.\n",
    "\n",
    "***2. Reducción de la dimensionalidad***: En este paso se utilizó la función TruncatedSVD, que aplica el algoritmo SVD para identificar los espacios latentes de los datos, reduciendo así el consumo de memoria RAM y mejorando los tiempos de convergencia de los modelos. Se optó por este método de transformación en lugar de uno de selección, ya que se busca simplificar la representación de los datos y capturar su variabilidad sin preocuparnos por la interpretabilidad del modelo.\n",
    "\n",
    "***3. Aplicación del modelo**: Para cada uno de los modelos, se implementó una búsqueda mediante validación cruzada, buscando optimizar el rendimiento de la agrupación mediante el ajuste de los parámetros de cada modelo, utilizando como métrica principal la precisión (accuracy).\n",
    "\n",
    "Los resultados de los tres modelos indican que el modelo de regresión logística proporciona la mejor precisión, alcanzando un 0.85. Al revisar métricas adicionales como el recall para cada clase, este modelo también destaca, siendo la clase con menor recall la clase 8, que obtuvo un 0.52, en comparación con los otros dos modelos, que lograron 0.19 para la red neuronal y 0.33 para el Random Forest.\n",
    "\n",
    "Como se mencionó al inicio del notebook, las clases más representadas tienden a tener mejores niveles de predicción en comparación con las menos representadas. En este contexto, el modelo de regresión logística mostró la mejor precisión y sensibilidad para la clase menos representada.\n"
   ]
  },
  {
   "cell_type": "code",
   "execution_count": null,
   "id": "4079ee85-c71e-4aad-aab2-69cfcdbc131c",
   "metadata": {
    "id": "4079ee85-c71e-4aad-aab2-69cfcdbc131c"
   },
   "outputs": [],
   "source": []
  },
  {
   "cell_type": "code",
   "execution_count": null,
   "id": "bb5761d3-3531-4491-9eb7-1afe7a6e1c26",
   "metadata": {},
   "outputs": [],
   "source": []
  }
 ],
 "metadata": {
  "colab": {
   "provenance": []
  },
  "kernelspec": {
   "display_name": "Python 3 (ipykernel)",
   "language": "python",
   "name": "python3"
  },
  "language_info": {
   "codemirror_mode": {
    "name": "ipython",
    "version": 3
   },
   "file_extension": ".py",
   "mimetype": "text/x-python",
   "name": "python",
   "nbconvert_exporter": "python",
   "pygments_lexer": "ipython3",
   "version": "3.12.2"
  }
 },
 "nbformat": 4,
 "nbformat_minor": 5
}
